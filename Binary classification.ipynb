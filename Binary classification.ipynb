{
 "cells": [
  {
   "cell_type": "markdown",
   "metadata": {},
   "source": [
    "Choosing the right type of training\n",
    "is crucial to getting our machine learning algorithms to converge to a solution."
   ]
  },
  {
   "cell_type": "code",
   "execution_count": 9,
   "metadata": {},
   "outputs": [],
   "source": [
    "import matplotlib.pyplot as plt\n",
    "import numpy as np\n",
    "import tensorflow as tf"
   ]
  },
  {
   "cell_type": "code",
   "execution_count": 10,
   "metadata": {},
   "outputs": [],
   "source": [
    "batch_size = 25\n",
    "x_vals = np.concatenate((np.random.normal(-1, 1, 50), np.random.normal(2, 1, 50)))\n",
    "y_vals = np.concatenate((np.repeat(0., 50), np.repeat(1., 50)))\n",
    "x_data = tf.placeholder(shape=[1, None], dtype=tf.float32)\n",
    "y_target = tf.placeholder(shape=[1, None], dtype=tf.float32)\n",
    "train_indices = np.random.choice(len(x_vals), round(len(x_vals)*0.8), replace=False)\n",
    "test_indices = np.array(list(set(range(len(x_vals))) - set(train_indices)))\n",
    "x_vals_train = x_vals[train_indices]\n",
    "x_vals_test = x_vals[test_indices]\n",
    "y_vals_train = y_vals[train_indices]\n",
    "y_vals_test = y_vals[test_indices]\n",
    "A = tf.Variable(tf.random_normal(mean=0,stddev = 1, shape=[1,1]))"
   ]
  },
  {
   "cell_type": "code",
   "execution_count": 11,
   "metadata": {},
   "outputs": [],
   "source": [
    "init = tf.global_variables_initializer()"
   ]
  },
  {
   "cell_type": "code",
   "execution_count": 12,
   "metadata": {},
   "outputs": [],
   "source": [
    "my_output = tf.add(x_data, A)\n",
    "xentropy = tf.reduce_mean(tf.nn.sigmoid_cross_entropy_with_logits(logits = my_output, labels = y_target))\n",
    "my_opt = tf.train.GradientDescentOptimizer(0.05)\n",
    "train_step = my_opt.minimize(xentropy)"
   ]
  },
  {
   "cell_type": "code",
   "execution_count": 13,
   "metadata": {},
   "outputs": [
    {
     "name": "stdout",
     "output_type": "stream",
     "text": [
      "Step #200 A = [[-0.34807763]]\n",
      "Loss = 0.23675789\n",
      "Step #400 A = [[-0.6386132]]\n",
      "Loss = 0.24307184\n",
      "Step #600 A = [[-0.71523136]]\n",
      "Loss = 0.2625436\n",
      "Step #800 A = [[-0.7385519]]\n",
      "Loss = 0.34131977\n",
      "Step #1000 A = [[-0.773998]]\n",
      "Loss = 0.28105515\n",
      "Step #1200 A = [[-0.74330765]]\n",
      "Loss = 0.26145747\n",
      "Step #1400 A = [[-0.73267394]]\n",
      "Loss = 0.23221295\n",
      "Step #1600 A = [[-0.67637235]]\n",
      "Loss = 0.25222817\n",
      "Step #1800 A = [[-0.70436305]]\n",
      "Loss = 0.30160922\n"
     ]
    }
   ],
   "source": [
    "writer = tf.summary.FileWriter('/home/user/Downloads/assign1/',tf.get_default_graph())\n",
    "with tf.Session() as sess:\n",
    "    sess.run(init)\n",
    "    for i in range(1800):\n",
    "        rand_index = np.random.choice(len(x_vals_train), size=batch_size)\n",
    "        rand_x = [x_vals_train[rand_index]]\n",
    "        rand_y = [y_vals_train[rand_index]]\n",
    "        sess.run(train_step, feed_dict={x_data: rand_x, y_target:rand_y})\n",
    "        if (i+1)%200==0:\n",
    "            print('Step #' + str(i+1) + ' A = ' + str(sess.run(A)))\n",
    "            print('Loss = ' + str(sess.run(xentropy, feed_dict={x_data: rand_x, y_target: rand_y})))\n",
    "writer.close()"
   ]
  },
  {
   "cell_type": "code",
   "execution_count": 14,
   "metadata": {},
   "outputs": [],
   "source": [
    "y_prediction = tf.squeeze(tf.round(tf.nn.sigmoid(tf.add(x_data,A))))\n",
    "correct_prediction = tf.equal(y_prediction, y_target)\n",
    "accuracy = tf.reduce_mean(tf.cast(correct_prediction, tf.float32))"
   ]
  },
  {
   "cell_type": "code",
   "execution_count": 15,
   "metadata": {},
   "outputs": [
    {
     "name": "stdout",
     "output_type": "stream",
     "text": [
      "Accuracy on train set: 0.675\n",
      "Accuracy on test set: 0.9\n"
     ]
    }
   ],
   "source": [
    "with tf.Session() as sess:\n",
    "    sess.run(init)\n",
    "    acc_value_test = sess.run(accuracy, feed_dict={x_data: [x_vals_test], y_target: [y_vals_test]})\n",
    "    acc_value_train = sess.run(accuracy, feed_dict={x_data: [x_vals_train], y_target: [y_vals_train]})\n",
    "    print('Accuracy on train set: ' + str(acc_value_train))\n",
    "    print('Accuracy on test set: ' + str(acc_value_test))"
   ]
  },
  {
   "cell_type": "code",
   "execution_count": 16,
   "metadata": {},
   "outputs": [
    {
     "data": {
      "image/png": "[encoded data removed]",
      "text/plain": [
       "<Figure size 432x288 with 1 Axes>"
      ]
     },
     "metadata": {},
     "output_type": "display_data"
    }
   ],
   "source": [
    "with tf.Session() as sess:\n",
    "    sess.run(init) \n",
    "    \n",
    "    A_result = sess.run(A)\n",
    "    A_result = A_result.reshape(1)\n",
    "    bins = np.linspace(-5, 5, 50)\n",
    "    plt.hist(x_vals[0:50], bins, alpha=0.5, label='N(-1,1)',color='blue')\n",
    "    plt.hist(x_vals[50:100], bins[0:50], alpha=0.5, label='N(2,1)',color='red')\n",
    "    plt.plot((A_result, A_result), (0, 8), 'k--', linewidth=3,label='A = '+ str(np.round(A_result, 2)))\n",
    "    plt.legend(loc='upper right')\n",
    "    plt.title('Binary Classifier, Accuracy=' + str(np.round(acc_value_test, 2)))\n",
    "    plt.show()"
   ]
  },
  {
   "cell_type": "code",
   "execution_count": null,
   "metadata": {},
   "outputs": [],
   "source": []
  },
  {
   "cell_type": "code",
   "execution_count": null,
   "metadata": {},
   "outputs": [],
   "source": []
  }
 ],
 "metadata": {
  "kernelspec": {
   "display_name": "Python 3",
   "language": "python",
   "name": "python3"
  },
  "language_info": {
   "codemirror_mode": {
    "name": "ipython",
    "version": 3
   },
   "file_extension": ".py",
   "mimetype": "text/x-python",
   "name": "python",
   "nbconvert_exporter": "python",
   "pygments_lexer": "ipython3",
   "version": "3.6.5"
  }
 },
 "nbformat": 4,
 "nbformat_minor": 2
}
