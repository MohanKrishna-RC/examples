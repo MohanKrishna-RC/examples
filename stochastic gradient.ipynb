{
 "cells": [
  {
   "cell_type": "markdown",
   "metadata": {},
   "source": [
    "# STOCHASTIC GRADIENT"
   ]
  },
  {
   "cell_type": "code",
   "execution_count": 10,
   "metadata": {},
   "outputs": [
    {
     "name": "stdout",
     "output_type": "stream",
     "text": [
      "Tensor(\"Mean_9:0\", shape=(), dtype=float32)\n",
      "Step #200 A = [5.238103]\n",
      "Loss = [[0.00014074]]\n",
      "Step #400 A = [1.3862295]\n",
      "Loss = [[0.87919825]]\n",
      "Step #600 A = [-0.19489081]\n",
      "Loss = [[0.11064456]]\n",
      "Step #800 A = [-0.8208301]\n",
      "Loss = [[0.12013699]]\n",
      "Step #1000 A = [-0.9292631]\n",
      "Loss = [[0.12313244]]\n",
      "Step #1200 A = [-0.93065053]\n",
      "Loss = [[0.11983911]]\n",
      "Step #1400 A = [-0.9901449]\n",
      "Loss = [[0.06081994]]\n"
     ]
    },
    {
     "data": {
      "text/plain": [
       "[<matplotlib.lines.Line2D at 0x7f7da18aadd8>]"
      ]
     },
     "execution_count": 10,
     "metadata": {},
     "output_type": "execute_result"
    },
    {
     "data": {
      "image/png": "[encoded data removed]",
      "text/plain": [
       "<Figure size 432x288 with 1 Axes>"
      ]
     },
     "metadata": {},
     "output_type": "display_data"
    }
   ],
   "source": [
    "\n",
    "\n",
    "\n",
    "import numpy as np\n",
    "import pandas as pd\n",
    "import tensorflow as tf\n",
    "import matplotlib.pyplot as plt\n",
    "\n",
    "\n",
    "\n",
    "\n",
    "x_vals = np.concatenate((np.random.normal(-1, 1, 50), np.random.normal(3, 1, 50)))\n",
    "y_vals = np.concatenate((np.repeat(0., 50), np.repeat(1., 50)))\n",
    "x_data = tf.placeholder(shape=[1], dtype=tf.float32)\n",
    "y_target = tf.placeholder(shape=[1], dtype=tf.float32)\n",
    "A = tf.Variable(tf.random_normal(mean=10, shape=[1]))                             \n",
    "\n",
    "\n",
    "# In[3]:\n",
    "\n",
    "\n",
    "my_output = tf.add(x_data, A)\n",
    "\n",
    "\n",
    "# In[4]:\n",
    "\n",
    "\n",
    "my_output_expanded = tf.expand_dims(my_output, 0)\n",
    "y_target_expanded = tf.expand_dims(y_target, 0)\n",
    "\n",
    "\n",
    "# In[5]:\n",
    "\n",
    "\n",
    "init = tf.global_variables_initializer()\n",
    "\n",
    "\n",
    "# In[24]:\n",
    "\n",
    "\n",
    "xentropy = tf.nn.sigmoid_cross_entropy_with_logits( logits = my_output_expanded, labels = y_target_expanded)\n",
    "cost = tf.reduce_mean(xentropy)\n",
    "print(cost)\n",
    "\n",
    "\n",
    "# In[25]:\n",
    "\n",
    "\n",
    "my_opt = tf.train.GradientDescentOptimizer(learning_rate = 0.05)\n",
    "train_step = my_opt.minimize(cost)\n",
    "\n",
    "\n",
    "# In[81]:\n",
    "\n",
    "\n",
    "total_loss = []\n",
    "with tf.Session() as sess:\n",
    "    sess.run(init)\n",
    "    losses = 0\n",
    "    for i in range(1400):\n",
    "        rand_index = np.random.choice(100)\n",
    "        rand_x = [x_vals[rand_index]]\n",
    "        rand_y = [y_vals[rand_index]]\n",
    "        b = sess.run(train_step, feed_dict={x_data: rand_x, y_target:rand_y})\n",
    "        loss = sess.run(xentropy, feed_dict={x_data: rand_x, y_target:rand_y})\n",
    "        if (i+1)%200==0:\n",
    "            print('Step #' + str(i+1) + ' A = ' + str(sess.run(A)))\n",
    "            print('Loss = ' + str(loss))\n",
    "        total_loss.append(loss)\n",
    "\n",
    "\n",
    "\n",
    "\n",
    "a = np.array(total_loss)\n",
    "a  = a.reshape([1400,1])\n",
    "\n",
    "\n",
    "\n",
    "\n",
    "\n",
    "a.shape\n",
    "\n",
    "# In[84]:\n",
    "\n",
    "\n",
    "plt.plot(a)\n",
    "\n"
   ]
  },
  {
   "cell_type": "code",
   "execution_count": null,
   "metadata": {},
   "outputs": [],
   "source": []
  }
 ],
 "metadata": {
  "kernelspec": {
   "display_name": "Python 3",
   "language": "python",
   "name": "python3"
  },
  "language_info": {
   "codemirror_mode": {
    "name": "ipython",
    "version": 3
   },
   "file_extension": ".py",
   "mimetype": "text/x-python",
   "name": "python",
   "nbconvert_exporter": "python",
   "pygments_lexer": "ipython3",
   "version": "3.6.5"
  }
 },
 "nbformat": 4,
 "nbformat_minor": 2
}
