{
 "cells": [
  {
   "cell_type": "code",
   "execution_count": 29,
   "metadata": {},
   "outputs": [],
   "source": [
    "import tensorflow as tf\n",
    "import numpy as np\n",
    "import matplotlib.pyplot as plt\n",
    "import pandas as pd\n",
    "import time\n",
    "from datetime import timedelta\n",
    "from utils import show_graph"
   ]
  },
  {
   "cell_type": "code",
   "execution_count": 2,
   "metadata": {},
   "outputs": [
    {
     "name": "stdout",
     "output_type": "stream",
     "text": [
      "WARNING:tensorflow:From <ipython-input-2-93d8da72a918>:2: read_data_sets (from tensorflow.contrib.learn.python.learn.datasets.mnist) is deprecated and will be removed in a future version.\n",
      "Instructions for updating:\n",
      "Please use alternatives such as official/mnist/dataset.py from tensorflow/models.\n",
      "WARNING:tensorflow:From /home/user/anaconda3/lib/python3.6/site-packages/tensorflow/contrib/learn/python/learn/datasets/mnist.py:260: maybe_download (from tensorflow.contrib.learn.python.learn.datasets.base) is deprecated and will be removed in a future version.\n",
      "Instructions for updating:\n",
      "Please write your own downloading logic.\n",
      "WARNING:tensorflow:From /home/user/anaconda3/lib/python3.6/site-packages/tensorflow/contrib/learn/python/learn/datasets/mnist.py:262: extract_images (from tensorflow.contrib.learn.python.learn.datasets.mnist) is deprecated and will be removed in a future version.\n",
      "Instructions for updating:\n",
      "Please use tf.data to implement this functionality.\n",
      "Extracting MNIST_data/train-images-idx3-ubyte.gz\n",
      "WARNING:tensorflow:From /home/user/anaconda3/lib/python3.6/site-packages/tensorflow/contrib/learn/python/learn/datasets/mnist.py:267: extract_labels (from tensorflow.contrib.learn.python.learn.datasets.mnist) is deprecated and will be removed in a future version.\n",
      "Instructions for updating:\n",
      "Please use tf.data to implement this functionality.\n",
      "Extracting MNIST_data/train-labels-idx1-ubyte.gz\n",
      "WARNING:tensorflow:From /home/user/anaconda3/lib/python3.6/site-packages/tensorflow/contrib/learn/python/learn/datasets/mnist.py:110: dense_to_one_hot (from tensorflow.contrib.learn.python.learn.datasets.mnist) is deprecated and will be removed in a future version.\n",
      "Instructions for updating:\n",
      "Please use tf.one_hot on tensors.\n",
      "Extracting MNIST_data/t10k-images-idx3-ubyte.gz\n",
      "Extracting MNIST_data/t10k-labels-idx1-ubyte.gz\n",
      "WARNING:tensorflow:From /home/user/anaconda3/lib/python3.6/site-packages/tensorflow/contrib/learn/python/learn/datasets/mnist.py:290: DataSet.__init__ (from tensorflow.contrib.learn.python.learn.datasets.mnist) is deprecated and will be removed in a future version.\n",
      "Instructions for updating:\n",
      "Please use alternatives such as official/mnist/dataset.py from tensorflow/models.\n"
     ]
    }
   ],
   "source": [
    "from tensorflow.examples.tutorials.mnist import input_data\n",
    "mnist = input_data.read_data_sets('MNIST_data', one_hot=True)"
   ]
  },
  {
   "cell_type": "code",
   "execution_count": 3,
   "metadata": {},
   "outputs": [
    {
     "data": {
      "text/plain": [
       "Datasets(train=<tensorflow.contrib.learn.python.learn.datasets.mnist.DataSet object at 0x7f05342f65f8>, validation=<tensorflow.contrib.learn.python.learn.datasets.mnist.DataSet object at 0x7f053d8e9c88>, test=<tensorflow.contrib.learn.python.learn.datasets.mnist.DataSet object at 0x7f053d8e9c18>)"
      ]
     },
     "execution_count": 3,
     "metadata": {},
     "output_type": "execute_result"
    }
   ],
   "source": [
    "mnist"
   ]
  },
  {
   "cell_type": "markdown",
   "metadata": {},
   "source": [
    "The result is that mnist.train.images is a tensor (an n-dimensional array) with a shape of [55000, 784]. The first dimension is an index into the list of images and the second dimension is the index for each pixel in each image. Each entry in the tensor is a pixel intensity between 0 and 1, for a particular pixel in a particular image."
   ]
  },
  {
   "cell_type": "code",
   "execution_count": 4,
   "metadata": {},
   "outputs": [
    {
     "name": "stdout",
     "output_type": "stream",
     "text": [
      "batch_xs:(20, 784), batch_ys:(20, 10)\n"
     ]
    }
   ],
   "source": [
    "# mnist.train.next_batch is a method to shuffle the entire dataset,\n",
    "#and return $mini_batch_size number of samples from the shuffled dataset.\n",
    "batch_size = 20\n",
    "for i in range(1):\n",
    "    batch_xs, batch_ys = mnist.train.next_batch(batch_size)\n",
    "    print(\"batch_xs:{}, batch_ys:{}\".format(batch_xs.shape, batch_ys.shape))"
   ]
  },
  {
   "cell_type": "code",
   "execution_count": 5,
   "metadata": {},
   "outputs": [
    {
     "name": "stdout",
     "output_type": "stream",
     "text": [
      "Test x input shape: (20, 784)\n",
      "Test y input shape: (20, 10)\n",
      "Validate shape of x: [None, 784]\n",
      "Validate shape of y: [None, 10]\n"
     ]
    }
   ],
   "source": [
    "#First create placeholders to receive input values\n",
    "\n",
    "#Create some test input to validate the shape\n",
    "\n",
    "test_x_input = np.random.random((batch_size, 784))\n",
    "test_y_input = np.random.random((batch_size, 10))\n",
    "print(\"Test x input shape: {}\".format(test_x_input.shape))\n",
    "print(\"Test y input shape: {}\".format(test_y_input.shape))\n",
    "\n",
    "\n",
    "#Create a tensorflow placeholder of shape (batch_size, features) called x that will accept a matrix that have the shape of text_x_input, but use None\n",
    "#as the batch_size so we can change that later on the fly\n",
    "\n",
    "x = tf.placeholder(tf.float32, [None, test_x_input.shape[1]], name='x')\n",
    "print(\"Validate shape of x: {}\".format(x.get_shape().as_list()))\n",
    "\n",
    "#Same for y, create a placeholder to hold target output classes\n",
    "y = tf.placeholder(tf.float32, [None, test_y_input.shape[1]], name='y')\n",
    "print(\"Validate shape of y: {}\".format(y.get_shape().as_list()))"
   ]
  },
  {
   "cell_type": "code",
   "execution_count": 6,
   "metadata": {},
   "outputs": [
    {
     "name": "stdout",
     "output_type": "stream",
     "text": [
      "x_4d shape: [None, 28, 28, 1]\n"
     ]
    }
   ],
   "source": [
    "# x input needs to be reshaped to 4 dimensions for tf.convo2d.\n",
    "# [ batch_size, height, width, depth(Channels, 1 for grayscale)]\n",
    "x_4d = tf.reshape(x, [-1, 28, 28,1], name='x_4d')\n",
    "print(\"x_4d shape: {}\".format(x_4d.get_shape().as_list()))"
   ]
  },
  {
   "cell_type": "code",
   "execution_count": null,
   "metadata": {},
   "outputs": [],
   "source": [
    "tf.reset_default_graph()"
   ]
  },
  {
   "cell_type": "code",
   "execution_count": 7,
   "metadata": {},
   "outputs": [
    {
     "name": "stdout",
     "output_type": "stream",
     "text": [
      "Dimensions of the first Weight/Filter: (5, 5, 1, 32)\n",
      "Bias dimensions of the first output layer will equal the number of output depth: (32,)\n"
     ]
    }
   ],
   "source": [
    "output_depth_1 = 32\n",
    "# Create a default initial bias that is 0.1, that will be used \n",
    "# as a base for all biases in this network\n",
    "initial_bias = tf.constant(0.1)\n",
    "weight_1 = tf.Variable(tf.truncated_normal((5,5,1, output_depth_1),stddev=0.1) ,name='weights_1')\n",
    "print(\"Dimensions of the first Weight/Filter: {}\".format(weight_1.get_shape()))\n",
    "bias_1 = tf.Variable(tf.constant(0.1, shape=([output_depth_1])), name='bias_1')\n",
    "print(\"Bias dimensions of the first output layer will equal the number of output depth: {}\".format(bias_1.get_shape()))"
   ]
  },
  {
   "cell_type": "code",
   "execution_count": 8,
   "metadata": {},
   "outputs": [],
   "source": [
    "convo_layer1 = tf.nn.conv2d(x_4d, weight_1, strides=[1,1,1,1], padding='SAME' )\n",
    "convo_layer1 = tf.nn.bias_add(convo_layer1, bias_1)\n",
    "convo_layer1 = tf.nn.relu(convo_layer1) #Use relu activation function before applying max pooling\n",
    "maxpool_layer1 = tf.nn.max_pool(convo_layer1, ksize=[1,2,2,1], strides=[1,2,2,1], padding='SAME')\n",
    "#Obtain the depth of the maxpool_layer1 in the 3rd dimension\n",
    "maxpool_layer1_depth = maxpool_layer1.get_shape().as_list()[3]"
   ]
  },
  {
   "cell_type": "code",
   "execution_count": 9,
   "metadata": {},
   "outputs": [
    {
     "name": "stdout",
     "output_type": "stream",
     "text": [
      "Weight shapes for 2nd convolutional layer : [5, 5, 32, 64]\n",
      "Preview the maxpool_layer2 output dimensions: [None, 7, 7, 64]\n"
     ]
    }
   ],
   "source": [
    "convo_depth_2_output = 64\n",
    "\n",
    "weight_2 = tf.Variable(tf.truncated_normal((5,5,maxpool_layer1_depth, convo_depth_2_output), stddev=0.1), name='weights_2')\n",
    "print(\"Weight shapes for 2nd convolutional layer : {}\".format(weight_2.get_shape().as_list()))\n",
    "bias_2 = tf.Variable(tf.constant(0.1,shape=[convo_depth_2_output]), name='bias_2')\n",
    "\n",
    "#Create the 2nd convolutional layer by applying convo2d on top of the previous maxpool_layer\n",
    "convo_layer2 = tf.nn.conv2d(maxpool_layer1, weight_2, strides=[1,1,1,1], padding='SAME') + bias_2\n",
    "convo_layer2 = tf.nn.relu(convo_layer2) \n",
    "\n",
    "#Apply the same maxpool layer\n",
    "maxpool_layer2 = tf.nn.max_pool(convo_layer2, ksize=[1,2,2,1], strides=[1,2,2,1], padding='SAME')\n",
    "\n",
    "\n",
    "#Create the Dense / Fully Connected layer\n",
    "#First flatten the maxpool_layer2 with dimensions (None, 7, 7, 64)\n",
    "mx_layer2_dims = maxpool_layer2.get_shape().as_list()\n",
    "print(\"Preview the maxpool_layer2 output dimensions: {}\".format(mx_layer2_dims))\n"
   ]
  },
  {
   "cell_type": "code",
   "execution_count": 10,
   "metadata": {},
   "outputs": [
    {
     "name": "stdout",
     "output_type": "stream",
     "text": [
      "Reshaped FC layer Shape: (?, 3136)\n"
     ]
    }
   ],
   "source": [
    "fc_layer = tf.reshape(maxpool_layer2, [-1, mx_layer2_dims[1] * mx_layer2_dims[2] * mx_layer2_dims[3]])\n",
    "print(\"Reshaped FC layer Shape: {}\".format(fc_layer.get_shape()))\n",
    "\n",
    "fc_layer_dims = fc_layer.get_shape().as_list()\n"
   ]
  },
  {
   "cell_type": "code",
   "execution_count": 11,
   "metadata": {},
   "outputs": [
    {
     "name": "stdout",
     "output_type": "stream",
     "text": [
      "Weights of Fully connected layer 1: [3136, 1024]\n",
      "Fully connected layer 1 - Bias_fc1 shape :  [1024]\n",
      "fc_layer1_activation shape [None, 1024]\n",
      "Fully connected layer 1 output shape: [None, 1024]\n",
      "Weights shape for FC layer 2 : [1024, 10]\n",
      "Final FC layer2 shape, must be the same as the one hot encoded y input: [None, 10]\n"
     ]
    }
   ],
   "source": [
    "fc_layer_1_output = 1024\n",
    "\n",
    "weights_fc1 = tf.Variable(tf.truncated_normal([fc_layer_dims[1], 1024], stddev=0.1), name='weights_fc1')\n",
    "print(\"Weights of Fully connected layer 1: {}\".format(weights_fc1.get_shape().as_list()))\n",
    "bias_fc1 = tf.Variable(tf.constant(0.1, shape=[fc_layer_1_output]), name='bias_fc1')\n",
    "print(\"Fully connected layer 1 - Bias_fc1 shape : \", bias_fc1.get_shape().as_list())\n",
    "\n",
    "#Perform linear regression on the dense layer, add a bias, and apply RELU activation\n",
    "fc_layer1_z = tf.nn.bias_add(tf.matmul(fc_layer, weights_fc1),bias_fc1)\n",
    "fc_layer_1_relu = tf.nn.relu(fc_layer1_z)\n",
    "print(\"fc_layer1_activation shape\", fc_layer_1_relu.get_shape().as_list())\n",
    "\n",
    "#add Dropout on the first dense layer to prevent overfitting\n",
    "keep_prob = tf.placeholder(tf.float32)\n",
    "fc_layer_1_drop = tf.nn.dropout(fc_layer_1_relu, keep_prob)\n",
    "\n",
    "#Final output layer\n",
    "dims_fc_l1_drop = fc_layer_1_drop.get_shape().as_list()\n",
    "print(\"Fully connected layer 1 output shape:\",dims_fc_l1_drop)\n",
    "\n",
    "# Create output with 10 classes\n",
    "# Simply a linear regression on the 1st fully connected layer, and add a bias. Note: no softmax activation functions here\n",
    "weights_fc2 = tf.Variable(tf.truncated_normal(shape=(dims_fc_l1_drop[1], 10), stddev=0.1), name='weights_fc2')\n",
    "print(\"Weights shape for FC layer 2 : {}\".format(weights_fc2.get_shape().as_list()))\n",
    "bias_fc2 = tf.Variable(tf.constant(0.1, shape=[10]),name='bias_fc2')\n",
    "\n",
    "fc_layer2 = tf.nn.bias_add(tf.matmul(fc_layer_1_drop, weights_fc2),bias_fc2)\n",
    "print(\"Final FC layer2 shape, must be the same as the one hot encoded y input: {}\".format(fc_layer2.get_shape().as_list()))"
   ]
  },
  {
   "cell_type": "code",
   "execution_count": 13,
   "metadata": {},
   "outputs": [
    {
     "name": "stdout",
     "output_type": "stream",
     "text": [
      "(1000, 784)\n",
      "(1000, 10)\n",
      "We'll test our model on 1000 examples from the MNIST test database\n"
     ]
    }
   ],
   "source": [
    "#Create a subset of test images\n",
    "mnist_val_x = mnist.test.images[:1000]\n",
    "print(mnist_val_x.shape)\n",
    "mnist_val_labels = mnist.test.labels[:1000]\n",
    "print(mnist_val_labels.shape)\n",
    "\n",
    "print(\"We'll test our model on 1000 examples from the MNIST test database\")"
   ]
  },
  {
   "cell_type": "code",
   "execution_count": 14,
   "metadata": {},
   "outputs": [],
   "source": [
    "# with tf.Session() as sess:\n",
    "#     sess.run(tf.global_variables_initializer())\n",
    "#     predictions = sess.run(fc_layer2, feed_dict={x: mnist_test_x[:5], keep_prob: 1.0})\n",
    "#     print(\"fc_layer2 output shape:{}\".format(predictions.shape)) #5 rows, 10 columns\n",
    "    \n",
    "#     #Peek into 5 rows of predictions\n",
    "#     print(\"Peek into the 5 rows of final fully connected layer 2 output predictions:\\n{}\".format(predictions))\n",
    "    \n",
    "#     # Calling tf.argmax with axis = 1 on a predictions, will return the index/column that contains\n",
    "#     # the largest value\n",
    "    \n",
    "#     pred_argmax = sess.run(tf.argmax(predictions,1))\n",
    "#     print(\"tf argmax on predictions returns 5 values (corresponding to 5 rows) :\\n{}\".format(pred_argmax))\n",
    "#     print(\"\\nTaking the 0th row (prediction[0]) as an example:{}\\nThe higheset value in this row is:{} which is column: [{}]\"\n",
    "#           .format(predictions[0],np.max(predictions),pred_argmax[0]))\n",
    "    \n",
    "    \n",
    "#     print(\"\\nPeek into 5 rows of target mnist_test_labels:\\n{}\".format(mnist_test_labels[:5]))\n",
    "#     actual_argmax = sess.run(tf.argmax(mnist_test_labels[:5], 1))\n",
    "#     print(\"Index of columns with the correct target: {}\".format(actual_argmax))\n",
    "    \n",
    "#     print(\"Predictions vs target:\\n{}\\n{}\".format(pred_argmax,actual_argmax))\n",
    "    \n",
    "#     correct_predictions = sess.run(tf.equal(pred_argmax,actual_argmax))\n",
    "    \n",
    "#     print(\"correct_predictions vector: {}\".format(correct_predictions))\n",
    "\n",
    "#     prediction_numbers = sess.run(tf.cast(correct_predictions, tf.float32))\n",
    "#     print(\"correct_predictions_in_numbers: {}\".format(prediction_numbers))\n",
    "\n",
    "#     # Now calculate the accuracy by simply obtaining the mean of this vector, where 1 is a correct prediction and 0 is a wrong\n",
    "#     # prediction\n",
    "#     accuracy = sess.run(tf.reduce_mean(prediction_numbers))\n",
    "#     print(\"Accuracy: {}\".format(accuracy))\n",
    "#     print(\"\\nNote:The accuracy at this stage should be terrible and totally random, since we have not trained the model yet.\")\n"
   ]
  },
  {
   "cell_type": "code",
   "execution_count": 15,
   "metadata": {},
   "outputs": [
    {
     "name": "stdout",
     "output_type": "stream",
     "text": [
      "WARNING:tensorflow:From <ipython-input-15-f694ab105e97>:3: softmax_cross_entropy_with_logits (from tensorflow.python.ops.nn_ops) is deprecated and will be removed in a future version.\n",
      "Instructions for updating:\n",
      "\n",
      "Future major versions of TensorFlow will allow gradients to flow\n",
      "into the labels input on backprop by default.\n",
      "\n",
      "See @{tf.nn.softmax_cross_entropy_with_logits_v2}.\n",
      "\n",
      "Tensor(\"cross_ent/Mean:0\", shape=(), dtype=float32)\n"
     ]
    }
   ],
   "source": [
    "#Create cross_entropy to be used in Adam optimizer\n",
    "with tf.name_scope(\"cross_ent\"):\n",
    "    cross_entropy = tf.nn.softmax_cross_entropy_with_logits(labels=y, logits=fc_layer2)\n",
    "    cost = tf.reduce_mean(cross_entropy)\n",
    "    print(cost)\n",
    "    \n",
    "with tf.name_scope(\"Optimizer\"):\n",
    "    train_step = tf.train.AdamOptimizer(1e-4).minimize(cost)\n",
    "    \n",
    "with tf.name_scope(\"accuracy\"):\n",
    "    correct_predictions = tf.equal(tf.argmax(fc_layer2,1), tf.argmax(y,1))\n",
    "    accuracy = tf.reduce_mean(tf.cast(correct_predictions, tf.float32))"
   ]
  },
  {
   "cell_type": "code",
   "execution_count": 16,
   "metadata": {},
   "outputs": [],
   "source": [
    "writer = tf.summary.FileWriter(\"Training_FileWriter/\")\n",
    "writer1 = tf.summary.FileWriter(\"Validation_FileWriter/\")\n",
    "\n",
    "tf.summary.scalar('loss', cost)\n",
    "tf.summary.scalar('accuracy', accuracy)\n",
    "merged_summary = tf.summary.merge_all()  "
   ]
  },
  {
   "cell_type": "code",
   "execution_count": 17,
   "metadata": {},
   "outputs": [],
   "source": [
    "save_file = './saved_models/cnn_model_0.ckpt' \n",
    "\n",
    "saver = tf.train.Saver()"
   ]
  },
  {
   "cell_type": "code",
   "execution_count": 30,
   "metadata": {},
   "outputs": [
    {
     "name": "stdout",
     "output_type": "stream",
     "text": [
      "Validation(Training) accuracy:0.13600000739097595 0.0% completed\n",
      "loss : 9.151334762573242\n",
      "Batch 0 completed!\n",
      "Validation(Training) accuracy:0.8259999752044678 10.0% completed\n",
      "loss : 0.6933172345161438\n",
      "Batch 100 completed!\n",
      "Validation(Training) accuracy:0.8849999904632568 20.0% completed\n",
      "loss : 0.8406227827072144\n",
      "Batch 200 completed!\n",
      "Validation(Training) accuracy:0.9079999923706055 30.0% completed\n",
      "loss : 0.5266677141189575\n",
      "Batch 300 completed!\n",
      "Validation(Training) accuracy:0.9210000038146973 40.0% completed\n",
      "loss : 0.3992910385131836\n",
      "Batch 400 completed!\n",
      "Validation(Training) accuracy:0.9330000281333923 50.0% completed\n",
      "loss : 0.25437986850738525\n",
      "Batch 500 completed!\n",
      "Validation(Training) accuracy:0.9399999976158142 60.0% completed\n",
      "loss : 0.29847970604896545\n",
      "Batch 600 completed!\n",
      "Validation(Training) accuracy:0.949999988079071 70.0% completed\n",
      "loss : 0.28659918904304504\n",
      "Batch 700 completed!\n",
      "Validation(Training) accuracy:0.953000009059906 80.0% completed\n",
      "loss : 0.36715763807296753\n",
      "Batch 800 completed!\n",
      "Validation(Training) accuracy:0.953000009059906 90.0% completed\n",
      "loss : 0.3874066472053528\n",
      "Batch 900 completed!\n",
      "Train Complete!\n",
      "1531385221.0269673\n",
      "Time usage: 0:01:40\n",
      "Model saved as ./saved_models/cnn_model_0.ckpt\n"
     ]
    }
   ],
   "source": [
    "batch_size = 64\n",
    "\n",
    "iterations = 1000\n",
    "reporting_count = 20\n",
    "writer = tf.summary.FileWriter('/home/user/Downloads/saved_models/',tf.get_default_graph())\n",
    "total_loss = []\n",
    "train_acc =[]\n",
    "with tf.Session() as sess:\n",
    "    sess.run(tf.global_variables_initializer())\n",
    "    start_time = time.time()\n",
    "    for i in range(iterations):\n",
    "        \n",
    "        batch_xs, batch_ys = mnist.train.next_batch(batch_size) # selecting the batches permutationally\n",
    "        _, loss,summary = sess.run([train_step,cost,merged_summary], feed_dict={x: batch_xs, y: batch_ys, keep_prob: 0.5})\n",
    "        writer.add_summary(summary,i)\n",
    "        #output = sess.run(train_step, feed_dict={x:batch_xs, keep_prob:0.5, y:batch_ys})\n",
    "  #      train_step.run(feed_dict={x: batch[0], y:batch[1], keep_prob: 0.5})\n",
    "        if i % 100 == 0:\n",
    "            #summary = sess.run([merged], feed_dict=feed_dict(False))\n",
    "            train_ac = sess.run(accuracy,feed_dict={x:mnist_val_x, y:mnist_val_labels, keep_prob:1.0 })\n",
    "            print(\"Validation(Training) accuracy:{} {}% completed\".format(train_ac, i/iterations * 100 ))\n",
    "            print( \"loss : {}\". format(loss))\n",
    "            print(\"Batch {} completed!\".format(i))\n",
    "        \n",
    "        train_acc.append(train_ac)\n",
    "        total_loss.append(loss)\n",
    "    print(\"Train Complete!\")\n",
    "    # Ending time.\n",
    "    end_time = time.time()\n",
    "    print(end_time)\n",
    "    # Difference between start and end-times.\n",
    "    time_dif = end_time - start_time\n",
    "    # Print the time-usage.\n",
    "    print(\"Time usage: \" + str(timedelta(seconds=int(round(time_dif)))))\n",
    "\n",
    "    #Remember to save model!\n",
    "    saver.save(sess, save_file)\n",
    "    print(\"Model saved as {}\".format(save_file))\n",
    "writer.close()   "
   ]
  },
  {
   "cell_type": "code",
   "execution_count": null,
   "metadata": {},
   "outputs": [],
   "source": [
    "show_graph(tf.get_default_graph().as_graph_def())"
   ]
  },
  {
   "cell_type": "markdown",
   "metadata": {},
   "source": [
    "# Create a test set of 5000 images from the whole set (only necessary to overcome RAM limitations, otherwise use the full test set)"
   ]
  },
  {
   "cell_type": "code",
   "execution_count": 31,
   "metadata": {},
   "outputs": [
    {
     "name": "stdout",
     "output_type": "stream",
     "text": [
      "Total number of test images: 10000\n",
      "(1000, 784)\n",
      "(1000, 10)\n"
     ]
    }
   ],
   "source": [
    "print(\"Total number of test images: {}\".format(len(mnist.test.images)))\n",
    "\n",
    "mnist_test_x_fromlast = mnist.test.images[-1000:]\n",
    "print(mnist_test_x_fromlast.shape)\n",
    "mnist_test_y_fromlast = mnist.test.labels[-1000:]\n",
    "print(mnist_test_y_fromlast.shape)"
   ]
  },
  {
   "cell_type": "code",
   "execution_count": 32,
   "metadata": {},
   "outputs": [
    {
     "name": "stdout",
     "output_type": "stream",
     "text": [
      "INFO:tensorflow:Restoring parameters from ./saved_models/cnn_model_0.ckpt\n",
      " Loss : [0.12959461]\n",
      "Final_test Accuracy :0.9589999914169312\n",
      "Test Accuracy Eval:95.89999914169312\n",
      "Test complete!\n"
     ]
    }
   ],
   "source": [
    "best_trained_model_path = './saved_models/cnn_model_0.ckpt' \n",
    "\n",
    "# Uncomment this to use your own trained model instead\n",
    "save_file = best_trained_model_path\n",
    "\n",
    "with tf.Session() as sess:\n",
    "    sess.run(tf.global_variables_initializer())\n",
    "    saver.restore(sess, save_file)\n",
    "    loss1= sess.run([cost], feed_dict={x: mnist_test_x_fromlast, y: mnist_test_y_fromlast, keep_prob: 1.0})\n",
    "    print ( \" Loss : {}\". format(loss1))\n",
    "    test_ac =sess.run(accuracy,feed_dict={x:mnist_test_x_fromlast, y:mnist_test_y_fromlast, keep_prob:1.0 })\n",
    "    #output = sess.run(accuracy, feed_dict={x:mnist_test_x_fromlast, y:mnist_test_y_fromlast, keep_prob:1.0 })\n",
    "    print(\"Final_test Accuracy :{}\".format(test_ac))\n",
    "    # Both ways are equivalent\n",
    "    print(\"Test Accuracy Eval:{}\".format(accuracy.eval(feed_dict={x:mnist_test_x_fromlast, y:mnist_test_y_fromlast, keep_prob:1.0 }) * 100 ))\n",
    "\n",
    "print(\"Test complete!\")"
   ]
  },
  {
   "cell_type": "code",
   "execution_count": 33,
   "metadata": {},
   "outputs": [
    {
     "data": {
      "image/png": "[encoded data removed]",
      "text/plain": [
       "<Figure size 432x288 with 1 Axes>"
      ]
     },
     "metadata": {},
     "output_type": "display_data"
    }
   ],
   "source": [
    "plt.figure()\n",
    "plt.plot(total_loss, label = 'Loss Curve')\n",
    "plt.legend()\n",
    "plt.show()"
   ]
  },
  {
   "cell_type": "code",
   "execution_count": 34,
   "metadata": {},
   "outputs": [
    {
     "data": {
      "image/png": "[encoded data removed]",
      "text/plain": [
       "<Figure size 432x288 with 1 Axes>"
      ]
     },
     "metadata": {},
     "output_type": "display_data"
    }
   ],
   "source": [
    "#eval_indices = range(0, iterations, 100)\n",
    "plt.plot(train_acc, 'k-', label='Train Set Accuracy')\n",
    "plt.title('Train and Test Accuracy')\n",
    "plt.xlabel('Generation')\n",
    "plt.ylabel('Accuracy')\n",
    "plt.legend(loc='lower right')\n",
    "plt.show()"
   ]
  },
  {
   "cell_type": "code",
   "execution_count": 36,
   "metadata": {},
   "outputs": [
    {
     "data": {
      "image/png": "[encoded data removed]",
      "text/plain": [
       "<Figure size 432x288 with 1 Axes>"
      ]
     },
     "metadata": {},
     "output_type": "display_data"
    }
   ],
   "source": [
    "plt.plot(test_ac, 'r--', label='Test Set Accuracy')\n",
    "plt.title('Train and Test Accuracy')\n",
    "plt.xlabel('Generation')\n",
    "plt.ylabel('Accuracy')\n",
    "plt.legend(loc='lower right')\n",
    "plt.show()"
   ]
  },
  {
   "cell_type": "code",
   "execution_count": null,
   "metadata": {},
   "outputs": [],
   "source": []
  },
  {
   "cell_type": "code",
   "execution_count": null,
   "metadata": {},
   "outputs": [],
   "source": []
  }
 ],
 "metadata": {
  "kernelspec": {
   "display_name": "Python 3",
   "language": "python",
   "name": "python3"
  },
  "language_info": {
   "codemirror_mode": {
    "name": "ipython",
    "version": 3
   },
   "file_extension": ".py",
   "mimetype": "text/x-python",
   "name": "python",
   "nbconvert_exporter": "python",
   "pygments_lexer": "ipython3",
   "version": "3.6.6"
  }
 },
 "nbformat": 4,
 "nbformat_minor": 2
}
