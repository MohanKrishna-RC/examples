{
 "cells": [
  {
   "cell_type": "code",
   "execution_count": 1,
   "metadata": {},
   "outputs": [
    {
     "name": "stderr",
     "output_type": "stream",
     "text": [
      "Using TensorFlow backend.\n"
     ]
    }
   ],
   "source": [
    "from __future__ import print_function\n",
    "\n",
    "import os\n",
    "import sys\n",
    "import numpy as np\n",
    "from keras.preprocessing.text import Tokenizer\n",
    "from keras.preprocessing.sequence import pad_sequences\n",
    "from keras.utils import to_categorical\n",
    "from keras.layers import Dense, Input, GlobalMaxPooling1D\n",
    "from keras.layers import Conv1D, MaxPooling1D, Embedding\n",
    "from keras.models import Model\n",
    "from keras.initializers import Constant\n",
    "import tensorflow as tf\n",
    "import matplotlib.pyplot as plt\n"
   ]
  },
  {
   "cell_type": "code",
   "execution_count": 2,
   "metadata": {},
   "outputs": [],
   "source": [
    "BASE_DIR = ''\n",
    "GLOVE_DIR = os.path.join(BASE_DIR, '/home/user/Downloads/proj/glove.6B/') # PRETRAINED MODEL GLoVE\n",
    "TEXT_DATA_DIR = os.path.join(BASE_DIR, '/home/user/Downloads/proj/20_newsgroup')\n",
    "MAX_SEQUENCE_LENGTH = 1000\n",
    "MAX_NUM_WORDS = 20000\n",
    "EMBEDDING_DIM = 200 # very important factor\n",
    "VALIDATION_SPLIT = 0.2"
   ]
  },
  {
   "cell_type": "code",
   "execution_count": 3,
   "metadata": {},
   "outputs": [
    {
     "name": "stdout",
     "output_type": "stream",
     "text": [
      "Indexing word vectors.\n",
      "['sandberger', '-0.51113', '-0.47518', '0.22871', '0.0086524', '-0.43737', '-0.28747', '0.23416', '-0.020332', '0.50697', '-0.24367', '-0.28646', '-0.024133', '-9.6845e-06', '0.048092', '-0.24467', '-0.12121', '0.13644', '-0.1619', '0.099349', '0.036545', '-0.031657', '-0.84172', '0.23022', '0.030332', '-0.67638', '-0.29399', '0.13298', '-0.037917', '-0.1097', '0.0026541', '-0.46669', '0.12329', '-0.0040373', '-0.28782', '-0.16733', '0.20938', '0.49163', '-0.060818', '0.14326', '-0.13628', '-0.1565', '-0.08306', '-0.08582', '-0.19864', '0.36016', '-0.16752', '-0.0064389', '0.23173', '-0.16636', '-0.1712', '0.184', '-0.52889', '-0.07044', '-0.37772', '-0.066473', '0.38519', '0.26262', '-0.039148', '-0.28182', '-0.16908', '-0.49491', '-0.14138', '0.41732', '-0.068889', '0.10125', '0.018499', '-0.066256', '0.19328', '-0.24784', '0.25005', '-0.063437', '0.26013', '0.2362', '-0.29019', '0.49803', '-0.74534', '0.2762', '0.16096', '-0.24558', '0.16969', '-0.11854', '0.73353', '0.13268', '-0.063005', '0.12337', '0.062225', '0.078222', '0.13446', '-0.60425', '0.1523', '0.28806', '0.18001', '-0.28224', '0.27971', '0.11618', '-0.019708', '-0.0098518', '-0.070856', '0.17582', '0.1237', '-0.19066', '-0.030569', '0.33535', '0.051755', '0.064251', '0.081222', '0.093289', '-0.55357', '0.015639', '-0.45546', '0.27916', '0.50138', '-0.30025', '-0.21612', '-0.062151', '-0.1665', '-0.15149', '-0.23214', '0.18798', '0.28888', '-0.36444', '-0.44035', '0.001113', '-0.188', '-0.2609', '0.2596', '-0.051463', '-0.043329', '0.19906', '-0.15509', '0.59359', '-0.21597', '-0.39197', '0.1755', '-0.093492', '-0.070023', '0.081829', '0.32887', '0.10574', '-0.026531', '-0.13022', '0.26618', '-0.20827', '0.15629', '-0.62249', '-0.32305', '-0.32544', '0.082363', '0.085395', '0.20349', '0.70146', '-0.54315', '0.43537', '-0.098362', '-0.20338', '0.1244', '0.34278', '-0.0023244', '-0.024317', '0.53333', '-0.067459', '0.16801', '-0.19277', '0.24257', '0.025454', '-0.078018', '-0.098558', '-0.3866', '0.45259', '-0.33174', '0.28998', '0.22814', '-0.070167', '-0.30188', '0.46792', '-0.036618', '0.23412', '0.41025', '-0.024629', '0.18839', '-0.41109', '0.39102', '0.11888', '-0.012482', '-0.21707', '-0.080927', '0.20984', '-0.59146', '0.16199', '-0.043054', '0.031073', '0.12325', '0.12524', '0.077474', '0.43502', '0.07107', '0.18514', '-0.0057218', '0.16466', '-0.39074']\n",
      "sandberger\n",
      "[-5.1113e-01 -4.7518e-01  2.2871e-01  8.6524e-03 -4.3737e-01 -2.8747e-01\n",
      "  2.3416e-01 -2.0332e-02  5.0697e-01 -2.4367e-01 -2.8646e-01 -2.4133e-02\n",
      " -9.6845e-06  4.8092e-02 -2.4467e-01 -1.2121e-01  1.3644e-01 -1.6190e-01\n",
      "  9.9349e-02  3.6545e-02 -3.1657e-02 -8.4172e-01  2.3022e-01  3.0332e-02\n",
      " -6.7638e-01 -2.9399e-01  1.3298e-01 -3.7917e-02 -1.0970e-01  2.6541e-03\n",
      " -4.6669e-01  1.2329e-01 -4.0373e-03 -2.8782e-01 -1.6733e-01  2.0938e-01\n",
      "  4.9163e-01 -6.0818e-02  1.4326e-01 -1.3628e-01 -1.5650e-01 -8.3060e-02\n",
      " -8.5820e-02 -1.9864e-01  3.6016e-01 -1.6752e-01 -6.4389e-03  2.3173e-01\n",
      " -1.6636e-01 -1.7120e-01  1.8400e-01 -5.2889e-01 -7.0440e-02 -3.7772e-01\n",
      " -6.6473e-02  3.8519e-01  2.6262e-01 -3.9148e-02 -2.8182e-01 -1.6908e-01\n",
      " -4.9491e-01 -1.4138e-01  4.1732e-01 -6.8889e-02  1.0125e-01  1.8499e-02\n",
      " -6.6256e-02  1.9328e-01 -2.4784e-01  2.5005e-01 -6.3437e-02  2.6013e-01\n",
      "  2.3620e-01 -2.9019e-01  4.9803e-01 -7.4534e-01  2.7620e-01  1.6096e-01\n",
      " -2.4558e-01  1.6969e-01 -1.1854e-01  7.3353e-01  1.3268e-01 -6.3005e-02\n",
      "  1.2337e-01  6.2225e-02  7.8222e-02  1.3446e-01 -6.0425e-01  1.5230e-01\n",
      "  2.8806e-01  1.8001e-01 -2.8224e-01  2.7971e-01  1.1618e-01 -1.9708e-02\n",
      " -9.8518e-03 -7.0856e-02  1.7582e-01  1.2370e-01 -1.9066e-01 -3.0569e-02\n",
      "  3.3535e-01  5.1755e-02  6.4251e-02  8.1222e-02  9.3289e-02 -5.5357e-01\n",
      "  1.5639e-02 -4.5546e-01  2.7916e-01  5.0138e-01 -3.0025e-01 -2.1612e-01\n",
      " -6.2151e-02 -1.6650e-01 -1.5149e-01 -2.3214e-01  1.8798e-01  2.8888e-01\n",
      " -3.6444e-01 -4.4035e-01  1.1130e-03 -1.8800e-01 -2.6090e-01  2.5960e-01\n",
      " -5.1463e-02 -4.3329e-02  1.9906e-01 -1.5509e-01  5.9359e-01 -2.1597e-01\n",
      " -3.9197e-01  1.7550e-01 -9.3492e-02 -7.0023e-02  8.1829e-02  3.2887e-01\n",
      "  1.0574e-01 -2.6531e-02 -1.3022e-01  2.6618e-01 -2.0827e-01  1.5629e-01\n",
      " -6.2249e-01 -3.2305e-01 -3.2544e-01  8.2363e-02  8.5395e-02  2.0349e-01\n",
      "  7.0146e-01 -5.4315e-01  4.3537e-01 -9.8362e-02 -2.0338e-01  1.2440e-01\n",
      "  3.4278e-01 -2.3244e-03 -2.4317e-02  5.3333e-01 -6.7459e-02  1.6801e-01\n",
      " -1.9277e-01  2.4257e-01  2.5454e-02 -7.8018e-02 -9.8558e-02 -3.8660e-01\n",
      "  4.5259e-01 -3.3174e-01  2.8998e-01  2.2814e-01 -7.0167e-02 -3.0188e-01\n",
      "  4.6792e-01 -3.6618e-02  2.3412e-01  4.1025e-01 -2.4629e-02  1.8839e-01\n",
      " -4.1109e-01  3.9102e-01  1.1888e-01 -1.2482e-02 -2.1707e-01 -8.0927e-02\n",
      "  2.0984e-01 -5.9146e-01  1.6199e-01 -4.3054e-02  3.1073e-02  1.2325e-01\n",
      "  1.2524e-01  7.7474e-02  4.3502e-01  7.1070e-02  1.8514e-01 -5.7218e-03\n",
      "  1.6466e-01 -3.9074e-01]\n",
      "Found 400000 word vectors.\n"
     ]
    }
   ],
   "source": [
    "# first, build index mapping words in the embeddings set\n",
    "# to their embedding vector\n",
    "\n",
    "print('Indexing word vectors.')\n",
    "\n",
    "embeddings_index = {}\n",
    "with open(os.path.join(GLOVE_DIR, '/home/user/Downloads/proj/glove.6B/glove.6B.200d.txt')) as f:\n",
    "    for line in f:\n",
    "        values = line.split()\n",
    "        word = values[0]             # values[] varies\n",
    "        coefs = np.asarray(values[1:], dtype='float32')\n",
    "        embeddings_index[word] = coefs\n",
    "print(values)\n",
    "print(word)\n",
    "print(coefs)\n",
    "print('Found %s word vectors.' % len(embeddings_index))"
   ]
  },
  {
   "cell_type": "code",
   "execution_count": 4,
   "metadata": {},
   "outputs": [],
   "source": [
    "# print os.path.join('cat','dog')              # 'cat/dog' no surprise here\n",
    "# print os.path.join('cat','dog').join('fish') # 'fcat/dogicat/dogscat/dogh'"
   ]
  },
  {
   "cell_type": "code",
   "execution_count": 5,
   "metadata": {},
   "outputs": [
    {
     "name": "stdout",
     "output_type": "stream",
     "text": [
      "Processing text dataset\n",
      "Found 19997 texts.\n"
     ]
    }
   ],
   "source": [
    "# second, prepare text samples and their labels\n",
    "\n",
    "print('Processing text dataset')\n",
    "\n",
    "texts = []  # list of text samples\n",
    "labels_index = {}  # dictionary mapping label name to numeric id\n",
    "labels = []  # list of label ids\n",
    "for name in sorted(os.listdir(TEXT_DATA_DIR)):     # sorted will directly sort the elements Another difference is that the list.sort() method is only defined for lists. \n",
    "                                                    #In contrast, the sorted() function accepts any iterable.\n",
    "    path = os.path.join(TEXT_DATA_DIR, name) \n",
    "    if os.path.isdir(path):\n",
    "        label_id = len(labels_index)\n",
    "        labels_index[name] = label_id\n",
    "        for fname in sorted(os.listdir(path)):\n",
    "            if fname.isdigit():\n",
    "                fpath = os.path.join(path, fname)\n",
    "                args = {} if sys.version_info < (3,) else {'encoding': 'latin-1'}\n",
    "                with open(fpath, **args) as f:\n",
    "                    t = f.read()\n",
    "                    i = t.find('\\n\\n')  # skip header\n",
    "                    if 0 < i:\n",
    "                        t = t[i:]\n",
    "                    texts.append(t)\n",
    "                labels.append(label_id)\n",
    "\n",
    "print('Found %s texts.' % len(texts))"
   ]
  },
  {
   "cell_type": "markdown",
   "metadata": {},
   "source": [
    "Pads sequences to the same length.\n",
    "\n",
    "This function transforms a list of num_samples sequences (lists of integers) into a 2D Numpy array of shape  (num_samples, num_timesteps). num_timesteps is either the maxlen argument if provided, or the length of the longest sequence otherwise.\n",
    "\n",
    "Sequences that are shorter than num_timesteps are padded with value at the end.\n",
    "\n",
    "Sequences longer than num_timesteps are truncated so that they fit the desired length. The position where padding or truncation happens is determined by the arguments padding and truncating, respectively.\n",
    "\n",
    "Pre-padding is the default."
   ]
  },
  {
   "cell_type": "code",
   "execution_count": 6,
   "metadata": {},
   "outputs": [
    {
     "name": "stdout",
     "output_type": "stream",
     "text": [
      "Found 174074 unique tokens.\n",
      "Shape of data tensor: (19997, 1000)\n",
      "Shape of label tensor: (19997, 20)\n"
     ]
    }
   ],
   "source": [
    "# finally, vectorize the text samples into a 2D integer tensor\n",
    "\n",
    "tokenizer = Tokenizer(num_words=MAX_NUM_WORDS)\n",
    "tokenizer.fit_on_texts(texts)\n",
    "sequences = tokenizer.texts_to_sequences(texts)\n",
    "\n",
    "word_index = tokenizer.word_index\n",
    "print('Found %s unique tokens.' % len(word_index))\n",
    "\n",
    "data = pad_sequences(sequences, maxlen=MAX_SEQUENCE_LENGTH)\n",
    "\n",
    "labels = to_categorical(np.asarray(labels)) #one hot encoding\n",
    "#print(labels)\n",
    "print('Shape of data tensor:', data.shape)\n",
    "print('Shape of label tensor:', labels.shape)"
   ]
  },
  {
   "cell_type": "code",
   "execution_count": 7,
   "metadata": {},
   "outputs": [
    {
     "name": "stdout",
     "output_type": "stream",
     "text": [
      "3999\n",
      "(15998, 1000) (3999, 1000) (15998, 20) (3999, 20)\n",
      "Preparing embedding matrix.\n"
     ]
    }
   ],
   "source": [
    "# split the data into a training set and a validation set\n",
    "\n",
    "indices = np.arange(data.shape[0])\n",
    "np.random.shuffle(indices)\n",
    "data = data[indices]\n",
    "labels = labels[indices]\n",
    "num_validation_samples = int(VALIDATION_SPLIT * data.shape[0])\n",
    "print(num_validation_samples)\n",
    "x_train = data[:-num_validation_samples]\n",
    "y_train = labels[:-num_validation_samples]\n",
    "x_val = data[-num_validation_samples:]\n",
    "y_val = labels[-num_validation_samples:]\n",
    "\n",
    "print(x_train.shape,x_val.shape,y_train.shape,y_val.shape)\n",
    "\n",
    "print('Preparing embedding matrix.')"
   ]
  },
  {
   "cell_type": "code",
   "execution_count": 8,
   "metadata": {},
   "outputs": [],
   "source": [
    "# prepare embedding matrix\n",
    "\n",
    "num_words = min(MAX_NUM_WORDS, len(word_index) + 1)\n",
    "embedding_matrix = np.zeros((num_words, EMBEDDING_DIM))\n",
    "for word, i in word_index.items():\n",
    "    if i >= MAX_NUM_WORDS:\n",
    "        continue\n",
    "    embedding_vector = embeddings_index.get(word)\n",
    "    if embedding_vector is not None:\n",
    "        # words not found in embedding index will be all-zeros.\n",
    "        embedding_matrix[i] = embedding_vector\n"
   ]
  },
  {
   "cell_type": "code",
   "execution_count": 9,
   "metadata": {},
   "outputs": [
    {
     "name": "stdout",
     "output_type": "stream",
     "text": [
      "Training model.\n"
     ]
    }
   ],
   "source": [
    "# load pre-trained word embeddings into an Embedding layer\n",
    "# note that we set trainable = False so as to keep the embeddings fixed\n",
    "\n",
    "#keras.layers.Embedding(input_dim, output_dim, embeddings_initializer='uniform', embeddings_regularizer=None, activity_regularizer=None, embeddings_constraint=None, mask_zero=False, input_length=None)\n",
    "\n",
    "#Turns positive integers (indexes) into dense vectors of fixed size. eg. [[4], [20]] -> [[0.25, 0.1], [0.6, -0.2]]\n",
    "\n",
    "## This layer can only be used as the first layer in a model.\n",
    "\n",
    "\n",
    "embedding_layer = Embedding(num_words,\n",
    "                            EMBEDDING_DIM,\n",
    "                            embeddings_initializer=Constant(embedding_matrix),\n",
    "                            input_length=MAX_SEQUENCE_LENGTH,\n",
    "                            trainable=False)\n",
    "\n",
    "print('Training model.')"
   ]
  },
  {
   "cell_type": "code",
   "execution_count": 10,
   "metadata": {},
   "outputs": [],
   "source": [
    "tf.reset_default_graph()"
   ]
  },
  {
   "cell_type": "code",
   "execution_count": 11,
   "metadata": {},
   "outputs": [
    {
     "name": "stdout",
     "output_type": "stream",
     "text": [
      "_________________________________________________________________\n",
      "Layer (type)                 Output Shape              Param #   \n",
      "=================================================================\n",
      "input_1 (InputLayer)         (None, 1000)              0         \n",
      "_________________________________________________________________\n",
      "embedding_1 (Embedding)      (None, 1000, 200)         4000000   \n",
      "_________________________________________________________________\n",
      "conv1d_1 (Conv1D)            (None, 996, 128)          128128    \n",
      "_________________________________________________________________\n",
      "max_pooling1d_1 (MaxPooling1 (None, 199, 128)          0         \n",
      "_________________________________________________________________\n",
      "conv1d_2 (Conv1D)            (None, 195, 128)          82048     \n",
      "_________________________________________________________________\n",
      "max_pooling1d_2 (MaxPooling1 (None, 39, 128)           0         \n",
      "_________________________________________________________________\n",
      "conv1d_3 (Conv1D)            (None, 35, 128)           82048     \n",
      "_________________________________________________________________\n",
      "global_max_pooling1d_1 (Glob (None, 128)               0         \n",
      "_________________________________________________________________\n",
      "dense_1 (Dense)              (None, 128)               16512     \n",
      "_________________________________________________________________\n",
      "dense_2 (Dense)              (None, 20)                2580      \n",
      "=================================================================\n",
      "Total params: 4,311,316\n",
      "Trainable params: 311,316\n",
      "Non-trainable params: 4,000,000\n",
      "_________________________________________________________________\n"
     ]
    }
   ],
   "source": [
    "# train a 1D convnet with global maxpooling\n",
    "\n",
    "sequence_input = Input(shape=(MAX_SEQUENCE_LENGTH,), dtype='int32')\n",
    "embedded_sequences = embedding_layer(sequence_input)\n",
    "x = Conv1D(128, 5, activation='relu')(embedded_sequences)\n",
    "x = MaxPooling1D(5)(x)\n",
    "x = Conv1D(128, 5, activation='relu')(x)\n",
    "x = MaxPooling1D(5)(x)\n",
    "x = Conv1D(128, 5, activation='relu')(x)\n",
    "x = GlobalMaxPooling1D()(x)\n",
    "x = Dense(128, activation='relu')(x)\n",
    "\n",
    "preds = Dense(len(labels_index), activation='softmax')(x)\n",
    "\n",
    "model = Model(sequence_input, preds)\n",
    "\n",
    "model.summary()\n"
   ]
  },
  {
   "cell_type": "code",
   "execution_count": 12,
   "metadata": {},
   "outputs": [
    {
     "name": "stdout",
     "output_type": "stream",
     "text": [
      "Train on 15998 samples, validate on 3999 samples\n",
      "Epoch 1/20\n",
      "15998/15998 [==============================] - 116s 7ms/step - loss: 2.3206 - acc: 0.2410 - val_loss: 1.8906 - val_acc: 0.3526\n",
      "Epoch 2/20\n",
      "15998/15998 [==============================] - 117s 7ms/step - loss: 1.3799 - acc: 0.5257 - val_loss: 1.1828 - val_acc: 0.5914\n",
      "Epoch 3/20\n",
      "15998/15998 [==============================] - 113s 7ms/step - loss: 1.0253 - acc: 0.6503 - val_loss: 1.0176 - val_acc: 0.6522\n",
      "Epoch 4/20\n",
      "15998/15998 [==============================] - 113s 7ms/step - loss: 0.8189 - acc: 0.7273 - val_loss: 0.9526 - val_acc: 0.6824\n",
      "Epoch 5/20\n",
      "15998/15998 [==============================] - 114s 7ms/step - loss: 0.6769 - acc: 0.7725 - val_loss: 1.0024 - val_acc: 0.6844\n",
      "Epoch 6/20\n",
      "15998/15998 [==============================] - 112s 7ms/step - loss: 0.5646 - acc: 0.8102 - val_loss: 1.0955 - val_acc: 0.6767\n",
      "Epoch 7/20\n",
      "15998/15998 [==============================] - 111s 7ms/step - loss: 0.4638 - acc: 0.8445 - val_loss: 0.8392 - val_acc: 0.7392\n",
      "Epoch 8/20\n",
      "15998/15998 [==============================] - 111s 7ms/step - loss: 0.3952 - acc: 0.8682 - val_loss: 0.9438 - val_acc: 0.7217\n",
      "Epoch 9/20\n",
      "15998/15998 [==============================] - 112s 7ms/step - loss: 0.3218 - acc: 0.8934 - val_loss: 0.8512 - val_acc: 0.7509\n",
      "Epoch 10/20\n",
      "15998/15998 [==============================] - 112s 7ms/step - loss: 0.2788 - acc: 0.9076 - val_loss: 0.9050 - val_acc: 0.7542\n",
      "Epoch 11/20\n",
      "15998/15998 [==============================] - 112s 7ms/step - loss: 0.2437 - acc: 0.9226 - val_loss: 1.0705 - val_acc: 0.7372\n",
      "Epoch 12/20\n",
      "15998/15998 [==============================] - 112s 7ms/step - loss: 0.2142 - acc: 0.9305 - val_loss: 1.0254 - val_acc: 0.7497\n",
      "Epoch 13/20\n",
      "15998/15998 [==============================] - 117s 7ms/step - loss: 0.2071 - acc: 0.9346 - val_loss: 1.0210 - val_acc: 0.7644\n",
      "Epoch 14/20\n",
      "15998/15998 [==============================] - 121s 8ms/step - loss: 0.1759 - acc: 0.9399 - val_loss: 1.1118 - val_acc: 0.7514\n",
      "Epoch 15/20\n",
      "15998/15998 [==============================] - 118s 7ms/step - loss: 0.1599 - acc: 0.9475 - val_loss: 1.1822 - val_acc: 0.7454\n",
      "Epoch 16/20\n",
      "15998/15998 [==============================] - 115s 7ms/step - loss: 0.1573 - acc: 0.9474 - val_loss: 1.1031 - val_acc: 0.7524\n",
      "Epoch 17/20\n",
      "15998/15998 [==============================] - 117s 7ms/step - loss: 0.1490 - acc: 0.9511 - val_loss: 1.0859 - val_acc: 0.7597\n",
      "Epoch 18/20\n",
      "15998/15998 [==============================] - 113s 7ms/step - loss: 0.1358 - acc: 0.9529 - val_loss: 1.3278 - val_acc: 0.7389\n",
      "Epoch 19/20\n",
      "15998/15998 [==============================] - 112s 7ms/step - loss: 0.1367 - acc: 0.9542 - val_loss: 1.1125 - val_acc: 0.7599\n",
      "Epoch 20/20\n",
      "15998/15998 [==============================] - 114s 7ms/step - loss: 0.1315 - acc: 0.9550 - val_loss: 1.1158 - val_acc: 0.7599\n"
     ]
    }
   ],
   "source": [
    "model.compile(loss='categorical_crossentropy',\n",
    "               optimizer='rmsprop',\n",
    "               metrics=['acc'])\n",
    "history = model.fit(x_train, y_train,\n",
    "          batch_size=128,\n",
    "          epochs=20,validation_data=(x_val, y_val))"
   ]
  },
  {
   "cell_type": "code",
   "execution_count": 13,
   "metadata": {},
   "outputs": [
    {
     "data": {
      "image/png": "[encoded data removed]",
      "text/plain": [
       "<Figure size 432x288 with 1 Axes>"
      ]
     },
     "metadata": {},
     "output_type": "display_data"
    }
   ],
   "source": [
    "fig1 = plt.figure()\n",
    "plt.plot(history.history['loss'],'r',linewidth=3.0)\n",
    "plt.plot(history.history['val_loss'],'b',linewidth=3.0)\n",
    "plt.legend(['Training loss', 'Validation Loss'],fontsize=18)\n",
    "plt.xlabel('Epochs ',fontsize=16)\n",
    "plt.ylabel('Loss',fontsize=16)\n",
    "plt.title('Loss Curves :CNN',fontsize=16)\n",
    "fig1.savefig('loss_cnn.png')\n",
    "plt.show()"
   ]
  },
  {
   "cell_type": "code",
   "execution_count": 14,
   "metadata": {},
   "outputs": [
    {
     "data": {
      "image/png": "[encoded data removed]",
      "text/plain": [
       "<Figure size 432x288 with 1 Axes>"
      ]
     },
     "metadata": {},
     "output_type": "display_data"
    }
   ],
   "source": [
    "fig2=plt.figure()\n",
    "plt.plot(history.history['acc'],'r',linewidth=3.0)\n",
    "plt.plot(history.history['val_acc'],'b',linewidth=3.0)\n",
    "plt.legend(['Training Accuracy', 'Validation Accuracy'],fontsize=18)\n",
    "plt.xlabel('Epochs ',fontsize=16)\n",
    "plt.ylabel('Accuracy',fontsize=16)\n",
    "plt.title('Accuracy Curves : CNN',fontsize=16)\n",
    "fig2.savefig('accuracy_cnn.png')\n",
    "plt.show()"
   ]
  },
  {
   "cell_type": "code",
   "execution_count": null,
   "metadata": {},
   "outputs": [],
   "source": []
  }
 ],
 "metadata": {
  "kernelspec": {
   "display_name": "Python 3",
   "language": "python",
   "name": "python3"
  },
  "language_info": {
   "codemirror_mode": {
    "name": "ipython",
    "version": 3
   },
   "file_extension": ".py",
   "mimetype": "text/x-python",
   "name": "python",
   "nbconvert_exporter": "python",
   "pygments_lexer": "ipython3",
   "version": "3.6.6"
  }
 },
 "nbformat": 4,
 "nbformat_minor": 2
}
