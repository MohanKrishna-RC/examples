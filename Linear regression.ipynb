{
 "cells": [
  {
   "cell_type": "code",
   "execution_count": 1,
   "metadata": {},
   "outputs": [
    {
     "name": "stderr",
     "output_type": "stream",
     "text": [
      "/home/user/anaconda3/lib/python3.6/site-packages/h5py/__init__.py:36: FutureWarning: Conversion of the second argument of issubdtype from `float` to `np.floating` is deprecated. In future, it will be treated as `np.float64 == np.dtype(float).type`.\n",
      "  from ._conv import register_converters as _register_converters\n"
     ]
    }
   ],
   "source": [
    "import matplotlib.pyplot as plt\n",
    "import numpy as np\n",
    "from sklearn import datasets\n",
    "import tensorflow as tf"
   ]
  },
  {
   "cell_type": "code",
   "execution_count": 2,
   "metadata": {},
   "outputs": [],
   "source": [
    "iris = datasets.load_iris()\n",
    "binary_target = np.array([1. if x==0 else 0. for x in iris.target])\n",
    "iris_2d = np.array([[x[2], x[3]] for x in iris.data])"
   ]
  },
  {
   "cell_type": "code",
   "execution_count": 3,
   "metadata": {},
   "outputs": [],
   "source": [
    "batch_size = 20\n",
    "x1_data = tf.placeholder(shape=[None, 1], dtype=tf.float32)\n",
    "x2_data = tf.placeholder(shape=[None, 1], dtype=tf.float32)\n",
    "y_target = tf.placeholder(shape=[None, 1], dtype=tf.float32)\n",
    "A = tf.Variable(tf.random_normal(shape=[1, 1]))\n",
    "b = tf.Variable(tf.random_normal(shape=[1, 1]))"
   ]
  },
  {
   "cell_type": "code",
   "execution_count": 4,
   "metadata": {},
   "outputs": [],
   "source": [
    "my_mult = tf.matmul(x2_data, A)\n",
    "my_add = tf.add(my_mult, b)\n",
    "my_output = tf.subtract(x1_data, my_add)"
   ]
  },
  {
   "cell_type": "code",
   "execution_count": 5,
   "metadata": {},
   "outputs": [],
   "source": [
    "xentropy = tf.nn.sigmoid_cross_entropy_with_logits(logits = my_output, labels = y_target)"
   ]
  },
  {
   "cell_type": "code",
   "execution_count": 6,
   "metadata": {},
   "outputs": [],
   "source": [
    "my_opt = tf.train.GradientDescentOptimizer(0.19)\n",
    "train_step = my_opt.minimize(xentropy)"
   ]
  },
  {
   "cell_type": "code",
   "execution_count": 7,
   "metadata": {},
   "outputs": [],
   "source": [
    "init = tf.global_variables_initializer()"
   ]
  },
  {
   "cell_type": "markdown",
   "metadata": {},
   "source": [
    "Now we will train our linear model with 1000 iterations.Now we will train our linear model with 1000 iterations. We will feed in the three data\n",
    "points that we require: petal length, petal width, and the target variable. \n",
    "# Every 200 iterations we will print the variable values:"
   ]
  },
  {
   "cell_type": "code",
   "execution_count": 103,
   "metadata": {},
   "outputs": [
    {
     "name": "stdout",
     "output_type": "stream",
     "text": [
      "Step #200 A = [[11.866301]], b= [[-5.8149304]]\n",
      "Step #400 A = [[13.612514]], b= [[-7.1445656]]\n",
      "Step #600 A = [[14.655892]], b= [[-8.077563]]\n",
      "Step #800 A = [[15.527879]], b= [[-8.631413]]\n",
      "Step #1000 A = [[16.13612]], b= [[-9.186052]]\n",
      "Step #1200 A = [[16.628952]], b= [[-9.745379]]\n",
      "Step #1400 A = [[17.16372]], b= [[-10.023938]]\n",
      "Step #1600 A = [[17.622517]], b= [[-10.306026]]\n",
      "Step #1800 A = [[17.928162]], b= [[-10.686726]]\n",
      "Step #2000 A = [[18.31588]], b= [[-10.906104]]\n",
      "Step #2200 A = [[18.558868]], b= [[-11.317199]]\n",
      "Step #2400 A = [[18.908493]], b= [[-11.442855]]\n",
      "Step #2600 A = [[19.132483]], b= [[-11.72645]]\n",
      "Step #2800 A = [[19.4512]], b= [[-11.855927]]\n",
      "Step #3000 A = [[19.687592]], b= [[-12.065604]]\n",
      "Step #3200 A = [[19.865133]], b= [[-12.323118]]\n",
      "Step #3400 A = [[20.065516]], b= [[-12.514347]]\n",
      "Step #3600 A = [[20.338085]], b= [[-12.613325]]\n",
      "Step #3800 A = [[20.520626]], b= [[-12.810794]]\n",
      "Step #4000 A = [[20.706753]], b= [[-13.014805]]\n",
      "Step #4200 A = [[20.92169]], b= [[-13.179401]]\n",
      "Step #4400 A = [[21.151701]], b= [[-13.210144]]\n",
      "Step #4600 A = [[21.371962]], b= [[-13.322254]]\n",
      "Step #4800 A = [[21.540796]], b= [[-13.374709]]\n",
      "Step #5000 A = [[21.566507]], b= [[-13.674786]]\n"
     ]
    }
   ],
   "source": [
    "with tf.Session() as sess:\n",
    "    sess.run(init)\n",
    "    for i in range(5000):\n",
    "        rand_index = np.random.choice(len(iris_2d), size=batch_size)\n",
    "        rand_x = iris_2d[rand_index]\n",
    "        rand_x1 = np.array([[x[0]] for x in rand_x])\n",
    "        rand_x2 = np.array([[x[1]] for x in rand_x])\n",
    "        rand_y = np.array([[y] for y in binary_target[rand_index]])\n",
    "        sess.run(train_step, feed_dict={x1_data: rand_x1, x2_data:rand_x2, y_target: rand_y})\n",
    "        if (i+1)%200==0:\n",
    "            print('Step #' + str(i+1) + ' A = ' + str(sess.run(A)) + ', b= ' + str(sess.run(b)))"
   ]
  },
  {
   "cell_type": "markdown",
   "metadata": {},
   "source": [
    "# Plotting the scattered points and the line"
   ]
  },
  {
   "cell_type": "code",
   "execution_count": 104,
   "metadata": {},
   "outputs": [
    {
     "data": {
      "image/png": "[encoded data removed]",
      "text/plain": [
       "<Figure size 432x288 with 1 Axes>"
      ]
     },
     "metadata": {},
     "output_type": "display_data"
    }
   ],
   "source": [
    "with tf.Session() as sess:\n",
    "    sess.run(init)\n",
    "    [[slope]] = sess.run(A)\n",
    "    [[intercept]] = sess.run(b)\n",
    "    x = np.linspace(0, 3, num=50)\n",
    "    ablineValues = []\n",
    "    for i in x:\n",
    "        ablineValues.append(slope*i+intercept)\n",
    "    setosa_x = [a[1] for i,a in enumerate(iris_2d) if binary_target[i]==1]\n",
    "    setosa_y = [a[0] for i,a in enumerate(iris_2d) if binary_target[i]==1]\n",
    "    non_setosa_x = [a[1] for i,a in enumerate(iris_2d) if binary_target[i]==0]\n",
    "    non_setosa_y = [a[0] for i,a in enumerate(iris_2d) if binary_target[i]==0]\n",
    "    plt.plot(setosa_x, setosa_y, 'rx', ms=10, mew=2, label='setosa''')\n",
    "    plt.plot(non_setosa_x, non_setosa_y, 'ro', label='Non-setosa')\n",
    "    plt.plot(x, ablineValues, 'b-')\n",
    "    plt.xlim([0.0, 2.7])\n",
    "    plt.ylim([0.0, 7.1])\n",
    "    plt.suptitle('Linear Separator For I.setosa', fontsize=10)\n",
    "    plt.xlabel('Petal Length')\n",
    "    plt.ylabel('Petal Width')\n",
    "    plt.legend(loc='lower right')\n",
    "    plt.show()"
   ]
  },
  {
   "cell_type": "code",
   "execution_count": null,
   "metadata": {},
   "outputs": [],
   "source": []
  },
  {
   "cell_type": "code",
   "execution_count": null,
   "metadata": {},
   "outputs": [],
   "source": []
  },
  {
   "cell_type": "code",
   "execution_count": null,
   "metadata": {},
   "outputs": [],
   "source": []
  }
 ],
 "metadata": {
  "kernelspec": {
   "display_name": "Python 3",
   "language": "python",
   "name": "python3"
  },
  "language_info": {
   "codemirror_mode": {
    "name": "ipython",
    "version": 3
   },
   "file_extension": ".py",
   "mimetype": "text/x-python",
   "name": "python",
   "nbconvert_exporter": "python",
   "pygments_lexer": "ipython3",
   "version": "3.6.5"
  }
 },
 "nbformat": 4,
 "nbformat_minor": 2
}
